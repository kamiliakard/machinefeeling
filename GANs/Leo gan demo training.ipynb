{
 "cells": [
  {
   "cell_type": "code",
   "execution_count": 1,
   "metadata": {},
   "outputs": [],
   "source": [
    "import numpy as np\n",
    "import tensorflow as tf\n",
    "\n",
    "from trainer import Trainer\n",
    "from config import get_config\n",
    "from data_loader import get_loader\n",
    "from utils import prepare_dirs_and_logger, save_config\n",
    "import os"
   ]
  },
  {
   "cell_type": "code",
   "execution_count": 2,
   "metadata": {},
   "outputs": [],
   "source": [
    "import os\n",
    "os.environ[\"CUDA_DEVICE_ORDER\"]=\"PCI_BUS_ID\"   # see issue #152\n",
    "os.environ[\"CUDA_VISIBLE_DEVICES\"]=\"0\""
   ]
  },
  {
   "cell_type": "code",
   "execution_count": 3,
   "metadata": {},
   "outputs": [],
   "source": [
    "# def main(config):\n",
    "#     prepare_dirs_and_logger(config)\n",
    "\n",
    "#     rng = np.random.RandomState(config.random_seed)\n",
    "#     tf.set_random_seed(config.random_seed)\n",
    "\n",
    "#     if config.is_train:\n",
    "#         data_path = config.data_path\n",
    "#         batch_size = config.batch_size\n",
    "#         do_shuffle = True\n",
    "#     else:\n",
    "#         setattr(config, 'batch_size', 64)\n",
    "#         if config.test_data_path is None:\n",
    "#             data_path = config.data_path\n",
    "#         else:\n",
    "#             data_path = config.test_data_path\n",
    "#         batch_size = config.sample_per_image\n",
    "#         do_shuffle = False\n",
    "\n",
    "#     data_loader = get_loader(\n",
    "#             data_path, config.batch_size, config.input_scale_size,\n",
    "#             config.data_format, config.split)\n",
    "#     trainer = Trainer(config, data_loader)\n",
    "\n",
    "#     if config.is_train:\n",
    "#         save_config(config)\n",
    "#         trainer.train()\n",
    "#     else:\n",
    "#         if not config.load_path:\n",
    "#             raise Exception(\"[!] You should specify `load_path` to load a pretrained model\")\n",
    "#         trainer.test()\n",
    "\n",
    "# # if __name__ == \"__main__\":\n",
    "# #     config, unparsed = get_config()\n",
    "# #     main(config)"
   ]
  },
  {
   "cell_type": "code",
   "execution_count": 4,
   "metadata": {},
   "outputs": [],
   "source": [
    "config, unparsed = get_config()\n",
    "config.is_train = True\n",
    "data_path = './CRASSH/wgafaces'\n",
    "batch_size = 16\n",
    "do_shuffle=True\n"
   ]
  },
  {
   "cell_type": "code",
   "execution_count": 5,
   "metadata": {},
   "outputs": [
    {
     "name": "stdout",
     "output_type": "stream",
     "text": [
      "WARNING:tensorflow:From /home/leonardo/.conda/envs/tensorflow/lib/python3.5/site-packages/tensorflow/python/training/input.py:187: QueueRunner.__init__ (from tensorflow.python.training.queue_runner_impl) is deprecated and will be removed in a future version.\n",
      "Instructions for updating:\n",
      "To construct input pipelines, use the `tf.data` module.\n",
      "WARNING:tensorflow:From /home/leonardo/.conda/envs/tensorflow/lib/python3.5/site-packages/tensorflow/python/training/input.py:187: add_queue_runner (from tensorflow.python.training.queue_runner_impl) is deprecated and will be removed in a future version.\n",
      "Instructions for updating:\n",
      "To construct input pipelines, use the `tf.data` module.\n"
     ]
    }
   ],
   "source": [
    "data_loader = get_loader(\n",
    "        data_path, batch_size, 128, \"NCHW\")"
   ]
  },
  {
   "cell_type": "code",
   "execution_count": 6,
   "metadata": {
    "scrolled": false
   },
   "outputs": [
    {
     "name": "stdout",
     "output_type": "stream",
     "text": [
      "WARNING:tensorflow:From /home/leonardo/Documents/GPUcomputing/BEGAN-tensorflow/trainer.py:107: Supervisor.__init__ (from tensorflow.python.training.supervisor) is deprecated and will be removed in a future version.\n",
      "Instructions for updating:\n",
      "Please switch to tf.train.MonitoredTrainingSession\n",
      "INFO:tensorflow:Running local_init_op.\n",
      "INFO:tensorflow:Done running local_init_op.\n",
      "INFO:tensorflow:Starting standard services.\n",
      "INFO:tensorflow:Saving checkpoint to path ./CRASSH/wgafaces-model/model.ckpt\n",
      "INFO:tensorflow:Starting queue runners.\n",
      "INFO:tensorflow:step/sec: 0\n"
     ]
    }
   ],
   "source": [
    "\n",
    "config.model_dir = data_path + '-model'\n",
    "config.batch_size = batch_size\n",
    "trainer = Trainer(config, data_loader)"
   ]
  },
  {
   "cell_type": "code",
   "execution_count": null,
   "metadata": {},
   "outputs": [],
   "source": []
  },
  {
   "cell_type": "code",
   "execution_count": null,
   "metadata": {
    "scrolled": true
   },
   "outputs": [
    {
     "name": "stderr",
     "output_type": "stream",
     "text": [
      "\r",
      "  0%|          | 0/500000 [00:00<?, ?it/s]"
     ]
    },
    {
     "name": "stdout",
     "output_type": "stream",
     "text": [
      "[0/500000] Loss_D: 0.501144 Loss_G: 0.044713 measure: 0.7070, k_t: 0.0000\n",
      "[*] Samples saved: ./CRASSH/wgafaces-model/0_G.png\n",
      "[*] Samples saved: ./CRASSH/wgafaces-model/0_D_real.png\n"
     ]
    },
    {
     "name": "stderr",
     "output_type": "stream",
     "text": [
      "\r",
      "  0%|          | 1/500000 [00:05<773:02:43,  5.57s/it]"
     ]
    },
    {
     "name": "stdout",
     "output_type": "stream",
     "text": [
      "[*] Samples saved: ./CRASSH/wgafaces-model/0_D_fake.png\n"
     ]
    },
    {
     "name": "stderr",
     "output_type": "stream",
     "text": [
      "  0%|          | 51/500000 [00:41<98:50:08,  1.41it/s] "
     ]
    },
    {
     "name": "stdout",
     "output_type": "stream",
     "text": [
      "[50/500000] Loss_D: 0.204345 Loss_G: 0.086771 measure: 0.2202, k_t: 0.0035\n"
     ]
    },
    {
     "name": "stderr",
     "output_type": "stream",
     "text": [
      "  0%|          | 101/500000 [01:17<99:04:06,  1.40it/s]"
     ]
    },
    {
     "name": "stdout",
     "output_type": "stream",
     "text": [
      "[100/500000] Loss_D: 0.176017 Loss_G: 0.069574 measure: 0.1949, k_t: 0.0047\n"
     ]
    },
    {
     "name": "stderr",
     "output_type": "stream",
     "text": [
      "  0%|          | 145/500000 [01:48<98:59:02,  1.40it/s]"
     ]
    },
    {
     "name": "stdout",
     "output_type": "stream",
     "text": [
      "INFO:tensorflow:step/sec: 1.20833\n"
     ]
    },
    {
     "name": "stderr",
     "output_type": "stream",
     "text": [
      "  0%|          | 151/500000 [01:52<99:06:58,  1.40it/s]"
     ]
    },
    {
     "name": "stdout",
     "output_type": "stream",
     "text": [
      "[150/500000] Loss_D: 0.164686 Loss_G: 0.074762 measure: 0.1729, k_t: 0.0054\n"
     ]
    },
    {
     "name": "stderr",
     "output_type": "stream",
     "text": [
      "  0%|          | 201/500000 [02:28<99:22:28,  1.40it/s]"
     ]
    },
    {
     "name": "stdout",
     "output_type": "stream",
     "text": [
      "[200/500000] Loss_D: 0.167191 Loss_G: 0.084509 measure: 0.1684, k_t: 0.0061\n"
     ]
    },
    {
     "name": "stderr",
     "output_type": "stream",
     "text": [
      "  0%|          | 251/500000 [03:04<99:14:23,  1.40it/s]"
     ]
    },
    {
     "name": "stdout",
     "output_type": "stream",
     "text": [
      "[250/500000] Loss_D: 0.142357 Loss_G: 0.085730 measure: 0.1572, k_t: 0.0067\n"
     ]
    },
    {
     "name": "stderr",
     "output_type": "stream",
     "text": [
      "  0%|          | 301/500000 [03:40<99:08:36,  1.40it/s]"
     ]
    },
    {
     "name": "stdout",
     "output_type": "stream",
     "text": [
      "[300/500000] Loss_D: 0.165076 Loss_G: 0.062238 measure: 0.1860, k_t: 0.0071\n"
     ]
    },
    {
     "name": "stderr",
     "output_type": "stream",
     "text": [
      "  0%|          | 313/500000 [03:48<99:07:16,  1.40it/s]"
     ]
    },
    {
     "name": "stdout",
     "output_type": "stream",
     "text": [
      "INFO:tensorflow:step/sec: 1.4\n"
     ]
    },
    {
     "name": "stderr",
     "output_type": "stream",
     "text": [
      "  0%|          | 351/500000 [04:15<99:17:23,  1.40it/s]"
     ]
    },
    {
     "name": "stdout",
     "output_type": "stream",
     "text": [
      "[350/500000] Loss_D: 0.126340 Loss_G: 0.062298 measure: 0.1279, k_t: 0.0079\n"
     ]
    },
    {
     "name": "stderr",
     "output_type": "stream",
     "text": [
      "  0%|          | 397/500000 [04:48<99:03:53,  1.40it/s]"
     ]
    },
    {
     "name": "stdout",
     "output_type": "stream",
     "text": [
      "INFO:tensorflow:Saving checkpoint to path ./CRASSH/wgafaces-model/model.ckpt\n"
     ]
    },
    {
     "name": "stderr",
     "output_type": "stream",
     "text": [
      "  0%|          | 401/500000 [04:51<99:28:09,  1.40it/s]"
     ]
    },
    {
     "name": "stdout",
     "output_type": "stream",
     "text": [
      "[400/500000] Loss_D: 0.136955 Loss_G: 0.056144 measure: 0.1500, k_t: 0.0088\n"
     ]
    },
    {
     "name": "stderr",
     "output_type": "stream",
     "text": [
      "  0%|          | 451/500000 [05:29<193:18:09,  1.39s/it]"
     ]
    },
    {
     "name": "stdout",
     "output_type": "stream",
     "text": [
      "[450/500000] Loss_D: 0.128632 Loss_G: 0.059646 measure: 0.1342, k_t: 0.0095\n"
     ]
    },
    {
     "name": "stderr",
     "output_type": "stream",
     "text": [
      "  0%|          | 477/500000 [05:48<99:09:22,  1.40it/s] "
     ]
    },
    {
     "name": "stdout",
     "output_type": "stream",
     "text": [
      "INFO:tensorflow:step/sec: 1.36667\n"
     ]
    },
    {
     "name": "stderr",
     "output_type": "stream",
     "text": [
      "  0%|          | 500/500000 [06:04<99:14:58,  1.40it/s]"
     ]
    },
    {
     "name": "stdout",
     "output_type": "stream",
     "text": [
      "[500/500000] Loss_D: 0.140325 Loss_G: 0.056449 measure: 0.1549, k_t: 0.0103\n",
      "[*] Samples saved: ./CRASSH/wgafaces-model/500_G.png\n",
      "[*] Samples saved: ./CRASSH/wgafaces-model/500_D_real.png\n"
     ]
    },
    {
     "name": "stderr",
     "output_type": "stream",
     "text": [
      "\r",
      "  0%|          | 501/500000 [06:06<133:31:35,  1.04it/s]"
     ]
    },
    {
     "name": "stdout",
     "output_type": "stream",
     "text": [
      "[*] Samples saved: ./CRASSH/wgafaces-model/500_D_fake.png\n"
     ]
    },
    {
     "name": "stderr",
     "output_type": "stream",
     "text": [
      "  0%|          | 551/500000 [06:41<99:21:39,  1.40it/s] "
     ]
    },
    {
     "name": "stdout",
     "output_type": "stream",
     "text": [
      "[550/500000] Loss_D: 0.122467 Loss_G: 0.058753 measure: 0.1259, k_t: 0.0111\n"
     ]
    },
    {
     "name": "stderr",
     "output_type": "stream",
     "text": [
      "  0%|          | 601/500000 [07:17<99:16:29,  1.40it/s]"
     ]
    },
    {
     "name": "stdout",
     "output_type": "stream",
     "text": [
      "[600/500000] Loss_D: 0.129015 Loss_G: 0.051826 measure: 0.1426, k_t: 0.0114\n"
     ]
    },
    {
     "name": "stderr",
     "output_type": "stream",
     "text": [
      "  0%|          | 644/500000 [07:48<99:22:34,  1.40it/s]"
     ]
    },
    {
     "name": "stdout",
     "output_type": "stream",
     "text": [
      "INFO:tensorflow:step/sec: 1.39167\n"
     ]
    },
    {
     "name": "stderr",
     "output_type": "stream",
     "text": [
      "  0%|          | 651/500000 [07:53<99:25:44,  1.40it/s]"
     ]
    },
    {
     "name": "stdout",
     "output_type": "stream",
     "text": [
      "[650/500000] Loss_D: 0.127812 Loss_G: 0.050048 measure: 0.1426, k_t: 0.0121\n"
     ]
    },
    {
     "name": "stderr",
     "output_type": "stream",
     "text": [
      "  0%|          | 701/500000 [08:29<99:16:01,  1.40it/s]"
     ]
    },
    {
     "name": "stdout",
     "output_type": "stream",
     "text": [
      "[700/500000] Loss_D: 0.139161 Loss_G: 0.046312 measure: 0.1633, k_t: 0.0129\n"
     ]
    },
    {
     "name": "stderr",
     "output_type": "stream",
     "text": [
      "  0%|          | 751/500000 [09:04<99:15:36,  1.40it/s]"
     ]
    },
    {
     "name": "stdout",
     "output_type": "stream",
     "text": [
      "[750/500000] Loss_D: 0.123685 Loss_G: 0.049727 measure: 0.1368, k_t: 0.0132\n"
     ]
    },
    {
     "name": "stderr",
     "output_type": "stream",
     "text": [
      "  0%|          | 801/500000 [09:40<99:25:23,  1.39it/s]"
     ]
    },
    {
     "name": "stdout",
     "output_type": "stream",
     "text": [
      "[800/500000] Loss_D: 0.128321 Loss_G: 0.049124 measure: 0.1444, k_t: 0.0139\n"
     ]
    },
    {
     "name": "stderr",
     "output_type": "stream",
     "text": [
      "  0%|          | 812/500000 [09:48<99:11:15,  1.40it/s]"
     ]
    },
    {
     "name": "stdout",
     "output_type": "stream",
     "text": [
      "INFO:tensorflow:Saving checkpoint to path ./CRASSH/wgafaces-model/model.ckpt\n",
      "INFO:tensorflow:step/sec: 1.39999\n"
     ]
    },
    {
     "name": "stderr",
     "output_type": "stream",
     "text": [
      "  0%|          | 851/500000 [10:16<99:17:44,  1.40it/s] "
     ]
    },
    {
     "name": "stdout",
     "output_type": "stream",
     "text": [
      "[850/500000] Loss_D: 0.131496 Loss_G: 0.045879 measure: 0.1524, k_t: 0.0148\n"
     ]
    },
    {
     "name": "stderr",
     "output_type": "stream",
     "text": [
      "  0%|          | 901/500000 [10:52<99:21:51,  1.40it/s]"
     ]
    },
    {
     "name": "stdout",
     "output_type": "stream",
     "text": [
      "[900/500000] Loss_D: 0.114138 Loss_G: 0.049400 measure: 0.1229, k_t: 0.0150\n"
     ]
    },
    {
     "name": "stderr",
     "output_type": "stream",
     "text": [
      "  0%|          | 951/500000 [11:28<99:21:16,  1.40it/s]"
     ]
    },
    {
     "name": "stdout",
     "output_type": "stream",
     "text": [
      "[950/500000] Loss_D: 0.117192 Loss_G: 0.044178 measure: 0.1326, k_t: 0.0154\n"
     ]
    },
    {
     "name": "stderr",
     "output_type": "stream",
     "text": [
      "  0%|          | 979/500000 [11:48<99:00:10,  1.40it/s]"
     ]
    },
    {
     "name": "stdout",
     "output_type": "stream",
     "text": [
      "INFO:tensorflow:step/sec: 1.39168\n"
     ]
    },
    {
     "name": "stderr",
     "output_type": "stream",
     "text": [
      "  0%|          | 1000/500000 [12:03<99:20:15,  1.40it/s]"
     ]
    },
    {
     "name": "stdout",
     "output_type": "stream",
     "text": [
      "[1000/500000] Loss_D: 0.126763 Loss_G: 0.052448 measure: 0.1389, k_t: 0.0158\n",
      "[*] Samples saved: ./CRASSH/wgafaces-model/1000_G.png\n",
      "[*] Samples saved: ./CRASSH/wgafaces-model/1000_D_real.png\n"
     ]
    },
    {
     "name": "stderr",
     "output_type": "stream",
     "text": [
      "\r",
      "  0%|          | 1001/500000 [12:04<134:10:10,  1.03it/s]"
     ]
    },
    {
     "name": "stdout",
     "output_type": "stream",
     "text": [
      "[*] Samples saved: ./CRASSH/wgafaces-model/1000_D_fake.png\n"
     ]
    },
    {
     "name": "stderr",
     "output_type": "stream",
     "text": [
      "  0%|          | 1051/500000 [12:40<99:22:48,  1.39it/s] "
     ]
    },
    {
     "name": "stdout",
     "output_type": "stream",
     "text": [
      "[1050/500000] Loss_D: 0.123911 Loss_G: 0.068982 measure: 0.1315, k_t: 0.0162\n"
     ]
    },
    {
     "name": "stderr",
     "output_type": "stream",
     "text": [
      "  0%|          | 1101/500000 [13:16<99:10:19,  1.40it/s]"
     ]
    },
    {
     "name": "stdout",
     "output_type": "stream",
     "text": [
      "[1100/500000] Loss_D: 0.119766 Loss_G: 0.046423 measure: 0.1344, k_t: 0.0166\n"
     ]
    },
    {
     "name": "stderr",
     "output_type": "stream",
     "text": [
      "  0%|          | 1146/500000 [13:48<99:08:32,  1.40it/s]"
     ]
    },
    {
     "name": "stdout",
     "output_type": "stream",
     "text": [
      "INFO:tensorflow:step/sec: 1.39166\n"
     ]
    },
    {
     "name": "stderr",
     "output_type": "stream",
     "text": [
      "  0%|          | 1151/500000 [13:52<99:14:42,  1.40it/s]"
     ]
    },
    {
     "name": "stdout",
     "output_type": "stream",
     "text": [
      "[1150/500000] Loss_D: 0.113816 Loss_G: 0.047125 measure: 0.1248, k_t: 0.0172\n"
     ]
    },
    {
     "name": "stderr",
     "output_type": "stream",
     "text": [
      "  0%|          | 1201/500000 [14:27<99:19:01,  1.40it/s]"
     ]
    },
    {
     "name": "stdout",
     "output_type": "stream",
     "text": [
      "[1200/500000] Loss_D: 0.111693 Loss_G: 0.066746 measure: 0.1232, k_t: 0.0177\n"
     ]
    },
    {
     "name": "stderr",
     "output_type": "stream",
     "text": [
      "  0%|          | 1230/500000 [14:48<99:03:00,  1.40it/s]"
     ]
    },
    {
     "name": "stdout",
     "output_type": "stream",
     "text": [
      "INFO:tensorflow:Saving checkpoint to path ./CRASSH/wgafaces-model/model.ckpt\n"
     ]
    },
    {
     "name": "stderr",
     "output_type": "stream",
     "text": [
      "  0%|          | 1251/500000 [15:03<99:25:51,  1.39it/s]"
     ]
    },
    {
     "name": "stdout",
     "output_type": "stream",
     "text": [
      "[1250/500000] Loss_D: 0.121703 Loss_G: 0.039769 measure: 0.1439, k_t: 0.0183\n"
     ]
    },
    {
     "name": "stderr",
     "output_type": "stream",
     "text": [
      "  0%|          | 1301/500000 [15:39<99:18:17,  1.39it/s]"
     ]
    },
    {
     "name": "stdout",
     "output_type": "stream",
     "text": [
      "[1300/500000] Loss_D: 0.120350 Loss_G: 0.042095 measure: 0.1396, k_t: 0.0189\n"
     ]
    },
    {
     "name": "stderr",
     "output_type": "stream",
     "text": [
      "  0%|          | 1313/500000 [15:48<99:10:35,  1.40it/s]"
     ]
    },
    {
     "name": "stdout",
     "output_type": "stream",
     "text": [
      "INFO:tensorflow:step/sec: 1.39167\n"
     ]
    },
    {
     "name": "stderr",
     "output_type": "stream",
     "text": [
      "  0%|          | 1351/500000 [16:15<99:10:59,  1.40it/s]"
     ]
    },
    {
     "name": "stdout",
     "output_type": "stream",
     "text": [
      "[1350/500000] Loss_D: 0.120890 Loss_G: 0.034403 measure: 0.1479, k_t: 0.0195\n"
     ]
    },
    {
     "name": "stderr",
     "output_type": "stream",
     "text": [
      "  0%|          | 1401/500000 [16:51<99:09:09,  1.40it/s]"
     ]
    },
    {
     "name": "stdout",
     "output_type": "stream",
     "text": [
      "[1400/500000] Loss_D: 0.120273 Loss_G: 0.046306 measure: 0.1355, k_t: 0.0203\n"
     ]
    },
    {
     "name": "stderr",
     "output_type": "stream",
     "text": [
      "  0%|          | 1451/500000 [17:26<99:32:11,  1.39it/s]"
     ]
    },
    {
     "name": "stdout",
     "output_type": "stream",
     "text": [
      "[1450/500000] Loss_D: 0.118620 Loss_G: 0.057238 measure: 0.1225, k_t: 0.0207\n"
     ]
    },
    {
     "name": "stderr",
     "output_type": "stream",
     "text": [
      "  0%|          | 1481/500000 [17:48<99:10:55,  1.40it/s]"
     ]
    },
    {
     "name": "stdout",
     "output_type": "stream",
     "text": [
      "INFO:tensorflow:step/sec: 1.4\n"
     ]
    },
    {
     "name": "stderr",
     "output_type": "stream",
     "text": [
      "  0%|          | 1500/500000 [18:02<98:57:21,  1.40it/s]"
     ]
    },
    {
     "name": "stdout",
     "output_type": "stream",
     "text": [
      "[1500/500000] Loss_D: 0.120737 Loss_G: 0.041574 measure: 0.1409, k_t: 0.0213\n",
      "[*] Samples saved: ./CRASSH/wgafaces-model/1500_G.png\n",
      "[*] Samples saved: ./CRASSH/wgafaces-model/1500_D_real.png\n"
     ]
    },
    {
     "name": "stderr",
     "output_type": "stream",
     "text": [
      "\r",
      "  0%|          | 1501/500000 [18:03<134:06:36,  1.03it/s]"
     ]
    },
    {
     "name": "stdout",
     "output_type": "stream",
     "text": [
      "[*] Samples saved: ./CRASSH/wgafaces-model/1500_D_fake.png\n"
     ]
    },
    {
     "name": "stderr",
     "output_type": "stream",
     "text": [
      "  0%|          | 1551/500000 [18:39<99:23:04,  1.39it/s] "
     ]
    },
    {
     "name": "stdout",
     "output_type": "stream",
     "text": [
      "[1550/500000] Loss_D: 0.113112 Loss_G: 0.039238 measure: 0.1317, k_t: 0.0218\n"
     ]
    },
    {
     "name": "stderr",
     "output_type": "stream",
     "text": [
      "  0%|          | 1601/500000 [19:15<99:11:38,  1.40it/s]"
     ]
    },
    {
     "name": "stdout",
     "output_type": "stream",
     "text": [
      "[1600/500000] Loss_D: 0.120682 Loss_G: 0.038906 measure: 0.1434, k_t: 0.0224\n"
     ]
    },
    {
     "name": "stderr",
     "output_type": "stream",
     "text": [
      "  0%|          | 1647/500000 [19:48<99:12:14,  1.40it/s]"
     ]
    },
    {
     "name": "stdout",
     "output_type": "stream",
     "text": [
      "INFO:tensorflow:Saving checkpoint to path ./CRASSH/wgafaces-model/model.ckpt\n"
     ]
    },
    {
     "name": "stderr",
     "output_type": "stream",
     "text": [
      "  0%|          | 1651/500000 [19:51<99:32:17,  1.39it/s]"
     ]
    },
    {
     "name": "stdout",
     "output_type": "stream",
     "text": [
      "[1650/500000] Loss_D: 0.125876 Loss_G: 0.053633 measure: 0.1370, k_t: 0.0228\n"
     ]
    },
    {
     "name": "stderr",
     "output_type": "stream",
     "text": [
      "  0%|          | 1701/500000 [20:26<99:10:11,  1.40it/s]"
     ]
    },
    {
     "name": "stdout",
     "output_type": "stream",
     "text": [
      "[1700/500000] Loss_D: 0.110924 Loss_G: 0.047278 measure: 0.1208, k_t: 0.0234\n"
     ]
    },
    {
     "name": "stderr",
     "output_type": "stream",
     "text": [
      "  0%|          | 1751/500000 [21:02<99:09:29,  1.40it/s]"
     ]
    },
    {
     "name": "stdout",
     "output_type": "stream",
     "text": [
      "[1750/500000] Loss_D: 0.113375 Loss_G: 0.064930 measure: 0.1224, k_t: 0.0236\n"
     ]
    },
    {
     "name": "stderr",
     "output_type": "stream",
     "text": [
      "  0%|          | 1801/500000 [21:38<99:11:02,  1.40it/s]"
     ]
    },
    {
     "name": "stdout",
     "output_type": "stream",
     "text": [
      "[1800/500000] Loss_D: 0.114594 Loss_G: 0.039146 measure: 0.1342, k_t: 0.0240\n"
     ]
    },
    {
     "name": "stderr",
     "output_type": "stream",
     "text": [
      "  0%|          | 1851/500000 [22:14<99:11:50,  1.39it/s]"
     ]
    },
    {
     "name": "stdout",
     "output_type": "stream",
     "text": [
      "[1850/500000] Loss_D: 0.128505 Loss_G: 0.071329 measure: 0.1364, k_t: 0.0243\n"
     ]
    },
    {
     "name": "stderr",
     "output_type": "stream",
     "text": [
      "  0%|          | 1901/500000 [22:50<99:22:02,  1.39it/s]"
     ]
    },
    {
     "name": "stdout",
     "output_type": "stream",
     "text": [
      "[1900/500000] Loss_D: 0.126924 Loss_G: 0.036795 measure: 0.1549, k_t: 0.0246\n"
     ]
    },
    {
     "name": "stderr",
     "output_type": "stream",
     "text": [
      "  0%|          | 1951/500000 [23:25<99:23:49,  1.39it/s]"
     ]
    },
    {
     "name": "stdout",
     "output_type": "stream",
     "text": [
      "[1950/500000] Loss_D: 0.115702 Loss_G: 0.046318 measure: 0.1290, k_t: 0.0248\n"
     ]
    },
    {
     "name": "stderr",
     "output_type": "stream",
     "text": [
      "  0%|          | 2000/500000 [24:00<99:05:53,  1.40it/s]"
     ]
    },
    {
     "name": "stdout",
     "output_type": "stream",
     "text": [
      "[2000/500000] Loss_D: 0.122582 Loss_G: 0.049026 measure: 0.1367, k_t: 0.0251\n",
      "[*] Samples saved: ./CRASSH/wgafaces-model/2000_G.png\n",
      "[*] Samples saved: ./CRASSH/wgafaces-model/2000_D_real.png\n"
     ]
    },
    {
     "name": "stderr",
     "output_type": "stream",
     "text": [
      "\r",
      "  0%|          | 2001/500000 [24:02<134:46:06,  1.03it/s]"
     ]
    },
    {
     "name": "stdout",
     "output_type": "stream",
     "text": [
      "[*] Samples saved: ./CRASSH/wgafaces-model/2000_D_fake.png\n"
     ]
    },
    {
     "name": "stderr",
     "output_type": "stream",
     "text": [
      "  0%|          | 2051/500000 [24:38<99:06:17,  1.40it/s] "
     ]
    },
    {
     "name": "stdout",
     "output_type": "stream",
     "text": [
      "[2050/500000] Loss_D: 0.114941 Loss_G: 0.048658 measure: 0.1256, k_t: 0.0258\n"
     ]
    },
    {
     "name": "stderr",
     "output_type": "stream",
     "text": [
      "  0%|          | 2065/500000 [24:48<99:17:21,  1.39it/s]"
     ]
    },
    {
     "name": "stdout",
     "output_type": "stream",
     "text": [
      "INFO:tensorflow:Saving checkpoint to path ./CRASSH/wgafaces-model/model.ckpt\n"
     ]
    },
    {
     "name": "stderr",
     "output_type": "stream",
     "text": [
      "  0%|          | 2101/500000 [25:14<99:19:38,  1.39it/s] "
     ]
    },
    {
     "name": "stdout",
     "output_type": "stream",
     "text": [
      "[2100/500000] Loss_D: 0.118056 Loss_G: 0.054306 measure: 0.1249, k_t: 0.0263\n"
     ]
    },
    {
     "name": "stderr",
     "output_type": "stream",
     "text": [
      "  0%|          | 2151/500000 [25:49<99:00:29,  1.40it/s]"
     ]
    },
    {
     "name": "stdout",
     "output_type": "stream",
     "text": [
      "[2150/500000] Loss_D: 0.116476 Loss_G: 0.062950 measure: 0.1220, k_t: 0.0265\n"
     ]
    },
    {
     "name": "stderr",
     "output_type": "stream",
     "text": [
      "  0%|          | 2201/500000 [26:25<99:06:29,  1.40it/s]"
     ]
    },
    {
     "name": "stdout",
     "output_type": "stream",
     "text": [
      "[2200/500000] Loss_D: 0.118191 Loss_G: 0.049944 measure: 0.1294, k_t: 0.0270\n"
     ]
    },
    {
     "name": "stderr",
     "output_type": "stream",
     "text": [
      "  0%|          | 2251/500000 [27:01<99:15:21,  1.39it/s]"
     ]
    },
    {
     "name": "stdout",
     "output_type": "stream",
     "text": [
      "[2250/500000] Loss_D: 0.097292 Loss_G: 0.045925 measure: 0.1019, k_t: 0.0274\n"
     ]
    },
    {
     "name": "stderr",
     "output_type": "stream",
     "text": [
      "  0%|          | 2301/500000 [27:37<99:01:11,  1.40it/s]"
     ]
    },
    {
     "name": "stdout",
     "output_type": "stream",
     "text": [
      "[2300/500000] Loss_D: 0.103451 Loss_G: 0.046207 measure: 0.1109, k_t: 0.0280\n"
     ]
    },
    {
     "name": "stderr",
     "output_type": "stream",
     "text": [
      "  0%|          | 2351/500000 [28:13<98:57:43,  1.40it/s]"
     ]
    },
    {
     "name": "stdout",
     "output_type": "stream",
     "text": [
      "[2350/500000] Loss_D: 0.122540 Loss_G: 0.065668 measure: 0.1279, k_t: 0.0283\n"
     ]
    },
    {
     "name": "stderr",
     "output_type": "stream",
     "text": [
      "  0%|          | 2401/500000 [28:49<99:09:48,  1.39it/s]"
     ]
    },
    {
     "name": "stdout",
     "output_type": "stream",
     "text": [
      "[2400/500000] Loss_D: 0.112432 Loss_G: 0.040597 measure: 0.1298, k_t: 0.0286\n"
     ]
    },
    {
     "name": "stderr",
     "output_type": "stream",
     "text": [
      "  0%|          | 2451/500000 [29:24<99:13:24,  1.39it/s]"
     ]
    },
    {
     "name": "stdout",
     "output_type": "stream",
     "text": [
      "[2450/500000] Loss_D: 0.113984 Loss_G: 0.047075 measure: 0.1260, k_t: 0.0291\n"
     ]
    },
    {
     "name": "stderr",
     "output_type": "stream",
     "text": [
      "  0%|          | 2484/500000 [29:48<98:50:37,  1.40it/s]"
     ]
    },
    {
     "name": "stdout",
     "output_type": "stream",
     "text": [
      "INFO:tensorflow:Saving checkpoint to path ./CRASSH/wgafaces-model/model.ckpt\n"
     ]
    },
    {
     "name": "stderr",
     "output_type": "stream",
     "text": [
      "  0%|          | 2500/500000 [30:00<99:00:50,  1.40it/s]"
     ]
    },
    {
     "name": "stdout",
     "output_type": "stream",
     "text": [
      "[2500/500000] Loss_D: 0.108930 Loss_G: 0.046052 measure: 0.1194, k_t: 0.0295\n",
      "[*] Samples saved: ./CRASSH/wgafaces-model/2500_G.png\n",
      "[*] Samples saved: ./CRASSH/wgafaces-model/2500_D_real.png\n"
     ]
    },
    {
     "name": "stderr",
     "output_type": "stream",
     "text": [
      "\r",
      "  1%|          | 2501/500000 [30:01<131:16:30,  1.05it/s]"
     ]
    },
    {
     "name": "stdout",
     "output_type": "stream",
     "text": [
      "[*] Samples saved: ./CRASSH/wgafaces-model/2500_D_fake.png\n"
     ]
    },
    {
     "name": "stderr",
     "output_type": "stream",
     "text": [
      "  1%|          | 2551/500000 [30:37<99:20:15,  1.39it/s] "
     ]
    },
    {
     "name": "stdout",
     "output_type": "stream",
     "text": [
      "[2550/500000] Loss_D: 0.116107 Loss_G: 0.060136 measure: 0.1191, k_t: 0.0296\n"
     ]
    },
    {
     "name": "stderr",
     "output_type": "stream",
     "text": [
      "  1%|          | 2601/500000 [31:13<99:18:21,  1.39it/s]"
     ]
    },
    {
     "name": "stdout",
     "output_type": "stream",
     "text": [
      "[2600/500000] Loss_D: 0.110698 Loss_G: 0.042797 measure: 0.1251, k_t: 0.0294\n"
     ]
    },
    {
     "name": "stderr",
     "output_type": "stream",
     "text": [
      "  1%|          | 2651/500000 [31:49<99:10:48,  1.39it/s]"
     ]
    },
    {
     "name": "stdout",
     "output_type": "stream",
     "text": [
      "[2650/500000] Loss_D: 0.104233 Loss_G: 0.046844 measure: 0.1116, k_t: 0.0295\n"
     ]
    },
    {
     "name": "stderr",
     "output_type": "stream",
     "text": [
      "  1%|          | 2701/500000 [32:24<99:16:42,  1.39it/s]"
     ]
    },
    {
     "name": "stdout",
     "output_type": "stream",
     "text": [
      "[2700/500000] Loss_D: 0.103820 Loss_G: 0.042904 measure: 0.1148, k_t: 0.0300\n"
     ]
    },
    {
     "name": "stderr",
     "output_type": "stream",
     "text": [
      "  1%|          | 2751/500000 [33:00<99:11:56,  1.39it/s]"
     ]
    },
    {
     "name": "stdout",
     "output_type": "stream",
     "text": [
      "[2750/500000] Loss_D: 0.113189 Loss_G: 0.061118 measure: 0.1186, k_t: 0.0302\n"
     ]
    },
    {
     "name": "stderr",
     "output_type": "stream",
     "text": [
      "  1%|          | 2801/500000 [33:36<99:05:18,  1.39it/s]"
     ]
    },
    {
     "name": "stdout",
     "output_type": "stream",
     "text": [
      "[2800/500000] Loss_D: 0.106963 Loss_G: 0.048643 measure: 0.1140, k_t: 0.0305\n"
     ]
    },
    {
     "name": "stderr",
     "output_type": "stream",
     "text": [
      "  1%|          | 2851/500000 [34:12<99:05:36,  1.39it/s]"
     ]
    },
    {
     "name": "stdout",
     "output_type": "stream",
     "text": [
      "[2850/500000] Loss_D: 0.109202 Loss_G: 0.057191 measure: 0.1127, k_t: 0.0306\n"
     ]
    },
    {
     "name": "stderr",
     "output_type": "stream",
     "text": [
      "  1%|          | 2901/500000 [34:48<98:57:25,  1.40it/s]"
     ]
    },
    {
     "name": "stdout",
     "output_type": "stream",
     "text": [
      "[2900/500000] Loss_D: 0.111968 Loss_G: 0.050168 measure: 0.1201, k_t: 0.0309\n",
      "INFO:tensorflow:Saving checkpoint to path ./CRASSH/wgafaces-model/model.ckpt\n"
     ]
    },
    {
     "name": "stderr",
     "output_type": "stream",
     "text": [
      "  1%|          | 2951/500000 [35:23<98:44:08,  1.40it/s] "
     ]
    },
    {
     "name": "stdout",
     "output_type": "stream",
     "text": [
      "[2950/500000] Loss_D: 0.108439 Loss_G: 0.039190 measure: 0.1253, k_t: 0.0313\n"
     ]
    },
    {
     "name": "stderr",
     "output_type": "stream",
     "text": [
      "  1%|          | 3000/500000 [35:59<98:43:41,  1.40it/s]"
     ]
    },
    {
     "name": "stdout",
     "output_type": "stream",
     "text": [
      "[3000/500000] Loss_D: 0.111640 Loss_G: 0.048308 measure: 0.1215, k_t: 0.0320\n",
      "[*] Samples saved: ./CRASSH/wgafaces-model/3000_G.png\n",
      "[*] Samples saved: ./CRASSH/wgafaces-model/3000_D_real.png\n"
     ]
    },
    {
     "name": "stderr",
     "output_type": "stream",
     "text": [
      "\r",
      "  1%|          | 3001/500000 [36:00<133:19:08,  1.04it/s]"
     ]
    },
    {
     "name": "stdout",
     "output_type": "stream",
     "text": [
      "[*] Samples saved: ./CRASSH/wgafaces-model/3000_D_fake.png\n"
     ]
    },
    {
     "name": "stderr",
     "output_type": "stream",
     "text": [
      "  1%|          | 3051/500000 [36:36<99:00:37,  1.39it/s] "
     ]
    },
    {
     "name": "stdout",
     "output_type": "stream",
     "text": [
      "[3050/500000] Loss_D: 0.107923 Loss_G: 0.044106 measure: 0.1199, k_t: 0.0321\n"
     ]
    },
    {
     "name": "stderr",
     "output_type": "stream",
     "text": [
      "  1%|          | 3101/500000 [37:12<99:00:44,  1.39it/s]"
     ]
    },
    {
     "name": "stdout",
     "output_type": "stream",
     "text": [
      "[3100/500000] Loss_D: 0.107177 Loss_G: 0.051320 measure: 0.1119, k_t: 0.0322\n"
     ]
    },
    {
     "name": "stderr",
     "output_type": "stream",
     "text": [
      "  1%|          | 3151/500000 [37:47<98:53:40,  1.40it/s]"
     ]
    },
    {
     "name": "stdout",
     "output_type": "stream",
     "text": [
      "[3150/500000] Loss_D: 0.113974 Loss_G: 0.058371 measure: 0.1163, k_t: 0.0325\n"
     ]
    },
    {
     "name": "stderr",
     "output_type": "stream",
     "text": [
      "  1%|          | 3201/500000 [38:23<98:44:53,  1.40it/s]"
     ]
    },
    {
     "name": "stdout",
     "output_type": "stream",
     "text": [
      "[3200/500000] Loss_D: 0.116896 Loss_G: 0.046608 measure: 0.1310, k_t: 0.0328\n"
     ]
    },
    {
     "name": "stderr",
     "output_type": "stream",
     "text": [
      "  1%|          | 3251/500000 [38:59<98:48:09,  1.40it/s]"
     ]
    },
    {
     "name": "stdout",
     "output_type": "stream",
     "text": [
      "[3250/500000] Loss_D: 0.105441 Loss_G: 0.052941 measure: 0.1078, k_t: 0.0330\n"
     ]
    },
    {
     "name": "stderr",
     "output_type": "stream",
     "text": [
      "  1%|          | 3301/500000 [39:35<98:43:31,  1.40it/s]"
     ]
    },
    {
     "name": "stdout",
     "output_type": "stream",
     "text": [
      "[3300/500000] Loss_D: 0.110268 Loss_G: 0.040110 measure: 0.1273, k_t: 0.0330\n"
     ]
    },
    {
     "name": "stderr",
     "output_type": "stream",
     "text": [
      "  1%|          | 3319/500000 [39:48<98:27:35,  1.40it/s]"
     ]
    },
    {
     "name": "stdout",
     "output_type": "stream",
     "text": [
      "INFO:tensorflow:Saving checkpoint to path ./CRASSH/wgafaces-model/model.ckpt\n"
     ]
    },
    {
     "name": "stderr",
     "output_type": "stream",
     "text": [
      "  1%|          | 3351/500000 [40:10<98:33:42,  1.40it/s]"
     ]
    },
    {
     "name": "stdout",
     "output_type": "stream",
     "text": [
      "[3350/500000] Loss_D: 0.116678 Loss_G: 0.048597 measure: 0.1289, k_t: 0.0334\n"
     ]
    },
    {
     "name": "stderr",
     "output_type": "stream",
     "text": [
      "  1%|          | 3401/500000 [40:46<99:00:09,  1.39it/s]"
     ]
    },
    {
     "name": "stdout",
     "output_type": "stream",
     "text": [
      "[3400/500000] Loss_D: 0.116629 Loss_G: 0.043347 measure: 0.1338, k_t: 0.0336\n"
     ]
    },
    {
     "name": "stderr",
     "output_type": "stream",
     "text": [
      "  1%|          | 3451/500000 [41:22<99:01:14,  1.39it/s]"
     ]
    },
    {
     "name": "stdout",
     "output_type": "stream",
     "text": [
      "[3450/500000] Loss_D: 0.104426 Loss_G: 0.073448 measure: 0.1269, k_t: 0.0337\n"
     ]
    },
    {
     "name": "stderr",
     "output_type": "stream",
     "text": [
      "  1%|          | 3500/500000 [41:57<98:50:35,  1.40it/s]"
     ]
    },
    {
     "name": "stdout",
     "output_type": "stream",
     "text": [
      "[3500/500000] Loss_D: 0.113568 Loss_G: 0.067453 measure: 0.1254, k_t: 0.0338\n",
      "[*] Samples saved: ./CRASSH/wgafaces-model/3500_G.png\n",
      "[*] Samples saved: ./CRASSH/wgafaces-model/3500_D_real.png\n"
     ]
    },
    {
     "name": "stderr",
     "output_type": "stream",
     "text": [
      "\r",
      "  1%|          | 3501/500000 [41:59<132:54:11,  1.04it/s]"
     ]
    },
    {
     "name": "stdout",
     "output_type": "stream",
     "text": [
      "[*] Samples saved: ./CRASSH/wgafaces-model/3500_D_fake.png\n"
     ]
    },
    {
     "name": "stderr",
     "output_type": "stream",
     "text": [
      "  1%|          | 3551/500000 [42:35<98:55:33,  1.39it/s] "
     ]
    },
    {
     "name": "stdout",
     "output_type": "stream",
     "text": [
      "[3550/500000] Loss_D: 0.100382 Loss_G: 0.058112 measure: 0.1093, k_t: 0.0339\n"
     ]
    },
    {
     "name": "stderr",
     "output_type": "stream",
     "text": [
      "  1%|          | 3601/500000 [43:10<98:59:46,  1.39it/s]"
     ]
    },
    {
     "name": "stdout",
     "output_type": "stream",
     "text": [
      "[3600/500000] Loss_D: 0.104514 Loss_G: 0.050822 measure: 0.1086, k_t: 0.0343\n"
     ]
    },
    {
     "name": "stderr",
     "output_type": "stream",
     "text": [
      "  1%|          | 3651/500000 [43:46<98:52:43,  1.39it/s]"
     ]
    },
    {
     "name": "stdout",
     "output_type": "stream",
     "text": [
      "[3650/500000] Loss_D: 0.112154 Loss_G: 0.042343 measure: 0.1281, k_t: 0.0341\n"
     ]
    },
    {
     "name": "stderr",
     "output_type": "stream",
     "text": [
      "  1%|          | 3701/500000 [44:22<99:08:10,  1.39it/s]"
     ]
    },
    {
     "name": "stdout",
     "output_type": "stream",
     "text": [
      "[3700/500000] Loss_D: 0.111993 Loss_G: 0.044108 measure: 0.1262, k_t: 0.0344\n"
     ]
    },
    {
     "name": "stderr",
     "output_type": "stream",
     "text": [
      "  1%|          | 3737/500000 [44:48<98:35:31,  1.40it/s]"
     ]
    },
    {
     "name": "stdout",
     "output_type": "stream",
     "text": [
      "INFO:tensorflow:Saving checkpoint to path ./CRASSH/wgafaces-model/model.ckpt\n"
     ]
    },
    {
     "name": "stderr",
     "output_type": "stream",
     "text": [
      "  1%|          | 3751/500000 [44:58<98:40:01,  1.40it/s]"
     ]
    },
    {
     "name": "stdout",
     "output_type": "stream",
     "text": [
      "[3750/500000] Loss_D: 0.097433 Loss_G: 0.065702 measure: 0.1156, k_t: 0.0345\n"
     ]
    },
    {
     "name": "stderr",
     "output_type": "stream",
     "text": [
      "  1%|          | 3801/500000 [45:34<98:48:02,  1.40it/s]"
     ]
    },
    {
     "name": "stdout",
     "output_type": "stream",
     "text": [
      "[3800/500000] Loss_D: 0.118137 Loss_G: 0.051964 measure: 0.1280, k_t: 0.0348\n"
     ]
    },
    {
     "name": "stderr",
     "output_type": "stream",
     "text": [
      "  1%|          | 3851/500000 [46:09<98:22:55,  1.40it/s]"
     ]
    },
    {
     "name": "stdout",
     "output_type": "stream",
     "text": [
      "[3850/500000] Loss_D: 0.101263 Loss_G: 0.044590 measure: 0.1097, k_t: 0.0351\n"
     ]
    },
    {
     "name": "stderr",
     "output_type": "stream",
     "text": [
      "  1%|          | 3901/500000 [46:45<98:55:31,  1.39it/s]"
     ]
    },
    {
     "name": "stdout",
     "output_type": "stream",
     "text": [
      "[3900/500000] Loss_D: 0.106442 Loss_G: 0.080780 measure: 0.1354, k_t: 0.0353\n"
     ]
    },
    {
     "name": "stderr",
     "output_type": "stream",
     "text": [
      "  1%|          | 3951/500000 [47:21<99:00:21,  1.39it/s]"
     ]
    },
    {
     "name": "stdout",
     "output_type": "stream",
     "text": [
      "[3950/500000] Loss_D: 0.101123 Loss_G: 0.048445 measure: 0.1058, k_t: 0.0355\n"
     ]
    },
    {
     "name": "stderr",
     "output_type": "stream",
     "text": [
      "  1%|          | 4000/500000 [47:56<98:46:43,  1.39it/s]"
     ]
    },
    {
     "name": "stdout",
     "output_type": "stream",
     "text": [
      "[4000/500000] Loss_D: 0.115221 Loss_G: 0.050888 measure: 0.1247, k_t: 0.0356\n",
      "[*] Samples saved: ./CRASSH/wgafaces-model/4000_G.png\n",
      "[*] Samples saved: ./CRASSH/wgafaces-model/4000_D_real.png\n"
     ]
    },
    {
     "name": "stderr",
     "output_type": "stream",
     "text": [
      "\r",
      "  1%|          | 4001/500000 [47:58<134:16:11,  1.03it/s]"
     ]
    },
    {
     "name": "stdout",
     "output_type": "stream",
     "text": [
      "[*] Samples saved: ./CRASSH/wgafaces-model/4000_D_fake.png\n"
     ]
    },
    {
     "name": "stderr",
     "output_type": "stream",
     "text": [
      "  1%|          | 4051/500000 [48:34<98:56:48,  1.39it/s] "
     ]
    },
    {
     "name": "stdout",
     "output_type": "stream",
     "text": [
      "[4050/500000] Loss_D: 0.111416 Loss_G: 0.053664 measure: 0.1164, k_t: 0.0361\n"
     ]
    },
    {
     "name": "stderr",
     "output_type": "stream",
     "text": [
      "  1%|          | 4101/500000 [49:09<98:59:05,  1.39it/s]"
     ]
    },
    {
     "name": "stdout",
     "output_type": "stream",
     "text": [
      "[4100/500000] Loss_D: 0.110695 Loss_G: 0.039893 measure: 0.1283, k_t: 0.0363\n"
     ]
    },
    {
     "name": "stderr",
     "output_type": "stream",
     "text": [
      "  1%|          | 4151/500000 [49:45<98:47:06,  1.39it/s]"
     ]
    },
    {
     "name": "stdout",
     "output_type": "stream",
     "text": [
      "[4150/500000] Loss_D: 0.106376 Loss_G: 0.052005 measure: 0.1104, k_t: 0.0364\n"
     ]
    },
    {
     "name": "stderr",
     "output_type": "stream",
     "text": [
      "  1%|          | 4155/500000 [49:48<98:38:10,  1.40it/s]"
     ]
    },
    {
     "name": "stdout",
     "output_type": "stream",
     "text": [
      "INFO:tensorflow:Saving checkpoint to path ./CRASSH/wgafaces-model/model.ckpt\n"
     ]
    },
    {
     "name": "stderr",
     "output_type": "stream",
     "text": [
      "  1%|          | 4201/500000 [50:21<98:52:14,  1.39it/s]"
     ]
    },
    {
     "name": "stdout",
     "output_type": "stream",
     "text": [
      "[4200/500000] Loss_D: 0.092964 Loss_G: 0.054496 measure: 0.1020, k_t: 0.0367\n"
     ]
    },
    {
     "name": "stderr",
     "output_type": "stream",
     "text": [
      "  1%|          | 4251/500000 [50:57<98:48:07,  1.39it/s]"
     ]
    },
    {
     "name": "stdout",
     "output_type": "stream",
     "text": [
      "[4250/500000] Loss_D: 0.091954 Loss_G: 0.046092 measure: 0.0944, k_t: 0.0369\n"
     ]
    },
    {
     "name": "stderr",
     "output_type": "stream",
     "text": [
      "  1%|          | 4301/500000 [51:33<98:49:35,  1.39it/s]"
     ]
    },
    {
     "name": "stdout",
     "output_type": "stream",
     "text": [
      "[4300/500000] Loss_D: 0.110220 Loss_G: 0.049748 measure: 0.1184, k_t: 0.0372\n"
     ]
    },
    {
     "name": "stderr",
     "output_type": "stream",
     "text": [
      "  1%|          | 4351/500000 [52:09<98:52:57,  1.39it/s]"
     ]
    },
    {
     "name": "stdout",
     "output_type": "stream",
     "text": [
      "[4350/500000] Loss_D: 0.109484 Loss_G: 0.039770 measure: 0.1267, k_t: 0.0375\n"
     ]
    },
    {
     "name": "stderr",
     "output_type": "stream",
     "text": [
      "  1%|          | 4401/500000 [52:45<98:44:25,  1.39it/s]"
     ]
    },
    {
     "name": "stdout",
     "output_type": "stream",
     "text": [
      "[4400/500000] Loss_D: 0.095697 Loss_G: 0.033826 measure: 0.1116, k_t: 0.0379\n"
     ]
    },
    {
     "name": "stderr",
     "output_type": "stream",
     "text": [
      "  1%|          | 4451/500000 [53:21<98:34:33,  1.40it/s]"
     ]
    },
    {
     "name": "stdout",
     "output_type": "stream",
     "text": [
      "[4450/500000] Loss_D: 0.106527 Loss_G: 0.042861 measure: 0.1194, k_t: 0.0385\n"
     ]
    },
    {
     "name": "stderr",
     "output_type": "stream",
     "text": [
      "  1%|          | 4500/500000 [53:56<98:43:00,  1.39it/s]"
     ]
    },
    {
     "name": "stdout",
     "output_type": "stream",
     "text": [
      "[4500/500000] Loss_D: 0.100613 Loss_G: 0.051900 measure: 0.1032, k_t: 0.0390\n",
      "[*] Samples saved: ./CRASSH/wgafaces-model/4500_G.png\n",
      "[*] Samples saved: ./CRASSH/wgafaces-model/4500_D_real.png\n"
     ]
    },
    {
     "name": "stderr",
     "output_type": "stream",
     "text": [
      "\r",
      "  1%|          | 4501/500000 [53:57<134:35:19,  1.02it/s]"
     ]
    },
    {
     "name": "stdout",
     "output_type": "stream",
     "text": [
      "[*] Samples saved: ./CRASSH/wgafaces-model/4500_D_fake.png\n"
     ]
    },
    {
     "name": "stderr",
     "output_type": "stream",
     "text": [
      "  1%|          | 4551/500000 [54:33<98:48:22,  1.39it/s] "
     ]
    },
    {
     "name": "stdout",
     "output_type": "stream",
     "text": [
      "[4550/500000] Loss_D: 0.102160 Loss_G: 0.072910 measure: 0.1254, k_t: 0.0395\n"
     ]
    },
    {
     "name": "stderr",
     "output_type": "stream",
     "text": [
      "  1%|          | 4572/500000 [54:48<98:41:03,  1.39it/s]"
     ]
    },
    {
     "name": "stdout",
     "output_type": "stream",
     "text": [
      "INFO:tensorflow:Saving checkpoint to path ./CRASSH/wgafaces-model/model.ckpt\n"
     ]
    },
    {
     "name": "stderr",
     "output_type": "stream",
     "text": [
      "  1%|          | 4601/500000 [55:09<98:54:52,  1.39it/s]"
     ]
    },
    {
     "name": "stdout",
     "output_type": "stream",
     "text": [
      "[4600/500000] Loss_D: 0.096665 Loss_G: 0.039640 measure: 0.1077, k_t: 0.0397\n"
     ]
    },
    {
     "name": "stderr",
     "output_type": "stream",
     "text": [
      "  1%|          | 4651/500000 [55:45<98:49:37,  1.39it/s]"
     ]
    },
    {
     "name": "stdout",
     "output_type": "stream",
     "text": [
      "[4650/500000] Loss_D: 0.107954 Loss_G: 0.046331 measure: 0.1184, k_t: 0.0401\n"
     ]
    },
    {
     "name": "stderr",
     "output_type": "stream",
     "text": [
      "  1%|          | 4701/500000 [56:21<98:48:28,  1.39it/s]"
     ]
    },
    {
     "name": "stdout",
     "output_type": "stream",
     "text": [
      "[4700/500000] Loss_D: 0.112170 Loss_G: 0.044357 measure: 0.1266, k_t: 0.0404\n"
     ]
    },
    {
     "name": "stderr",
     "output_type": "stream",
     "text": [
      "  1%|          | 4751/500000 [56:57<98:48:17,  1.39it/s]"
     ]
    },
    {
     "name": "stdout",
     "output_type": "stream",
     "text": [
      "[4750/500000] Loss_D: 0.099410 Loss_G: 0.042987 measure: 0.1088, k_t: 0.0408\n"
     ]
    },
    {
     "name": "stderr",
     "output_type": "stream",
     "text": [
      "  1%|          | 4801/500000 [57:32<98:48:32,  1.39it/s]"
     ]
    },
    {
     "name": "stdout",
     "output_type": "stream",
     "text": [
      "[4800/500000] Loss_D: 0.106681 Loss_G: 0.046783 measure: 0.1161, k_t: 0.0411\n"
     ]
    },
    {
     "name": "stderr",
     "output_type": "stream",
     "text": [
      "  1%|          | 4851/500000 [58:08<98:48:40,  1.39it/s]"
     ]
    },
    {
     "name": "stdout",
     "output_type": "stream",
     "text": [
      "[4850/500000] Loss_D: 0.103895 Loss_G: 0.040064 measure: 0.1183, k_t: 0.0416\n"
     ]
    },
    {
     "name": "stderr",
     "output_type": "stream",
     "text": [
      "  1%|          | 4901/500000 [58:44<98:45:41,  1.39it/s]"
     ]
    },
    {
     "name": "stdout",
     "output_type": "stream",
     "text": [
      "[4900/500000] Loss_D: 0.122058 Loss_G: 0.047646 measure: 0.1385, k_t: 0.0422\n"
     ]
    },
    {
     "name": "stderr",
     "output_type": "stream",
     "text": [
      "  1%|          | 4951/500000 [59:20<98:41:07,  1.39it/s]"
     ]
    },
    {
     "name": "stdout",
     "output_type": "stream",
     "text": [
      "[4950/500000] Loss_D: 0.110872 Loss_G: 0.055205 measure: 0.1146, k_t: 0.0424\n"
     ]
    },
    {
     "name": "stderr",
     "output_type": "stream",
     "text": [
      "  1%|          | 4990/500000 [59:48<98:37:08,  1.39it/s]"
     ]
    },
    {
     "name": "stdout",
     "output_type": "stream",
     "text": [
      "INFO:tensorflow:Saving checkpoint to path ./CRASSH/wgafaces-model/model.ckpt\n"
     ]
    },
    {
     "name": "stderr",
     "output_type": "stream",
     "text": [
      "  1%|          | 5000/500000 [59:55<98:42:15,  1.39it/s]"
     ]
    },
    {
     "name": "stdout",
     "output_type": "stream",
     "text": [
      "[5000/500000] Loss_D: 0.108555 Loss_G: 0.043163 measure: 0.1224, k_t: 0.0427\n",
      "[*] Samples saved: ./CRASSH/wgafaces-model/5000_G.png\n",
      "[*] Samples saved: ./CRASSH/wgafaces-model/5000_D_real.png\n"
     ]
    },
    {
     "name": "stderr",
     "output_type": "stream",
     "text": [
      "\r",
      "  1%|          | 5001/500000 [59:57<134:31:47,  1.02it/s]"
     ]
    },
    {
     "name": "stdout",
     "output_type": "stream",
     "text": [
      "[*] Samples saved: ./CRASSH/wgafaces-model/5000_D_fake.png\n"
     ]
    },
    {
     "name": "stderr",
     "output_type": "stream",
     "text": [
      "  1%|          | 5051/500000 [1:00:33<98:38:54,  1.39it/s] "
     ]
    },
    {
     "name": "stdout",
     "output_type": "stream",
     "text": [
      "[5050/500000] Loss_D: 0.103640 Loss_G: 0.049138 measure: 0.1095, k_t: 0.0431\n"
     ]
    },
    {
     "name": "stderr",
     "output_type": "stream",
     "text": [
      "  1%|          | 5101/500000 [1:01:08<98:57:47,  1.39it/s]"
     ]
    },
    {
     "name": "stdout",
     "output_type": "stream",
     "text": [
      "[5100/500000] Loss_D: 0.104588 Loss_G: 0.048128 measure: 0.1119, k_t: 0.0435\n"
     ]
    },
    {
     "name": "stderr",
     "output_type": "stream",
     "text": [
      "  1%|          | 5151/500000 [1:01:44<98:37:23,  1.39it/s]"
     ]
    },
    {
     "name": "stdout",
     "output_type": "stream",
     "text": [
      "[5150/500000] Loss_D: 0.116928 Loss_G: 0.048104 measure: 0.1305, k_t: 0.0439\n"
     ]
    },
    {
     "name": "stderr",
     "output_type": "stream",
     "text": [
      "  1%|          | 5201/500000 [1:02:20<98:36:45,  1.39it/s]"
     ]
    },
    {
     "name": "stdout",
     "output_type": "stream",
     "text": [
      "[5200/500000] Loss_D: 0.094843 Loss_G: 0.051364 measure: 0.0999, k_t: 0.0443\n"
     ]
    },
    {
     "name": "stderr",
     "output_type": "stream",
     "text": [
      "  1%|          | 5251/500000 [1:02:56<98:44:40,  1.39it/s]"
     ]
    },
    {
     "name": "stdout",
     "output_type": "stream",
     "text": [
      "[5250/500000] Loss_D: 0.113080 Loss_G: 0.055109 measure: 0.1182, k_t: 0.0447\n"
     ]
    },
    {
     "name": "stderr",
     "output_type": "stream",
     "text": [
      "  1%|          | 5301/500000 [1:03:32<98:42:15,  1.39it/s]"
     ]
    },
    {
     "name": "stdout",
     "output_type": "stream",
     "text": [
      "[5300/500000] Loss_D: 0.119017 Loss_G: 0.040608 measure: 0.1407, k_t: 0.0452\n"
     ]
    },
    {
     "name": "stderr",
     "output_type": "stream",
     "text": [
      "  1%|          | 5351/500000 [1:04:08<98:41:02,  1.39it/s]"
     ]
    },
    {
     "name": "stdout",
     "output_type": "stream",
     "text": [
      "[5350/500000] Loss_D: 0.104462 Loss_G: 0.053244 measure: 0.1071, k_t: 0.0458\n"
     ]
    },
    {
     "name": "stderr",
     "output_type": "stream",
     "text": [
      "  1%|          | 5401/500000 [1:04:44<98:43:26,  1.39it/s]"
     ]
    },
    {
     "name": "stdout",
     "output_type": "stream",
     "text": [
      "[5400/500000] Loss_D: 0.104317 Loss_G: 0.040435 measure: 0.1189, k_t: 0.0465\n"
     ]
    },
    {
     "name": "stderr",
     "output_type": "stream",
     "text": [
      "  1%|          | 5407/500000 [1:04:48<98:29:16,  1.39it/s]"
     ]
    },
    {
     "name": "stdout",
     "output_type": "stream",
     "text": [
      "INFO:tensorflow:Saving checkpoint to path ./CRASSH/wgafaces-model/model.ckpt\n"
     ]
    },
    {
     "name": "stderr",
     "output_type": "stream",
     "text": [
      "  1%|          | 5451/500000 [1:05:20<98:32:14,  1.39it/s]"
     ]
    },
    {
     "name": "stdout",
     "output_type": "stream",
     "text": [
      "[5450/500000] Loss_D: 0.112205 Loss_G: 0.068962 measure: 0.1267, k_t: 0.0470\n"
     ]
    },
    {
     "name": "stderr",
     "output_type": "stream",
     "text": [
      "  1%|          | 5500/500000 [1:05:55<98:25:29,  1.40it/s]"
     ]
    },
    {
     "name": "stdout",
     "output_type": "stream",
     "text": [
      "[5500/500000] Loss_D: 0.091910 Loss_G: 0.038424 measure: 0.1022, k_t: 0.0474\n",
      "[*] Samples saved: ./CRASSH/wgafaces-model/5500_G.png\n",
      "[*] Samples saved: ./CRASSH/wgafaces-model/5500_D_real.png\n"
     ]
    },
    {
     "name": "stderr",
     "output_type": "stream",
     "text": [
      "\r",
      "  1%|          | 5501/500000 [1:05:56<132:33:34,  1.04it/s]"
     ]
    },
    {
     "name": "stdout",
     "output_type": "stream",
     "text": [
      "[*] Samples saved: ./CRASSH/wgafaces-model/5500_D_fake.png\n"
     ]
    },
    {
     "name": "stderr",
     "output_type": "stream",
     "text": [
      "  1%|          | 5551/500000 [1:06:32<98:42:20,  1.39it/s] "
     ]
    },
    {
     "name": "stdout",
     "output_type": "stream",
     "text": [
      "[5550/500000] Loss_D: 0.104034 Loss_G: 0.094950 measure: 0.1492, k_t: 0.0476\n"
     ]
    },
    {
     "name": "stderr",
     "output_type": "stream",
     "text": [
      "  1%|          | 5601/500000 [1:07:08<98:36:14,  1.39it/s]"
     ]
    },
    {
     "name": "stdout",
     "output_type": "stream",
     "text": [
      "[5600/500000] Loss_D: 0.101856 Loss_G: 0.038673 measure: 0.1169, k_t: 0.0475\n"
     ]
    },
    {
     "name": "stderr",
     "output_type": "stream",
     "text": [
      "  1%|          | 5651/500000 [1:07:44<98:24:28,  1.40it/s]"
     ]
    },
    {
     "name": "stdout",
     "output_type": "stream",
     "text": [
      "[5650/500000] Loss_D: 0.104342 Loss_G: 0.058226 measure: 0.1118, k_t: 0.0476\n"
     ]
    },
    {
     "name": "stderr",
     "output_type": "stream",
     "text": [
      "  1%|          | 5701/500000 [1:08:20<98:27:33,  1.39it/s]"
     ]
    },
    {
     "name": "stdout",
     "output_type": "stream",
     "text": [
      "[5700/500000] Loss_D: 0.096849 Loss_G: 0.046984 measure: 0.1017, k_t: 0.0480\n"
     ]
    },
    {
     "name": "stderr",
     "output_type": "stream",
     "text": [
      "  1%|          | 5751/500000 [1:08:55<98:29:40,  1.39it/s]"
     ]
    },
    {
     "name": "stdout",
     "output_type": "stream",
     "text": [
      "[5750/500000] Loss_D: 0.094004 Loss_G: 0.045383 measure: 0.0989, k_t: 0.0485\n"
     ]
    },
    {
     "name": "stderr",
     "output_type": "stream",
     "text": [
      "  1%|          | 5801/500000 [1:09:31<98:13:09,  1.40it/s]"
     ]
    },
    {
     "name": "stdout",
     "output_type": "stream",
     "text": [
      "[5800/500000] Loss_D: 0.096478 Loss_G: 0.040949 measure: 0.1068, k_t: 0.0490\n"
     ]
    },
    {
     "name": "stderr",
     "output_type": "stream",
     "text": [
      "  1%|          | 5824/500000 [1:09:48<97:58:08,  1.40it/s]"
     ]
    },
    {
     "name": "stdout",
     "output_type": "stream",
     "text": [
      "INFO:tensorflow:Saving checkpoint to path ./CRASSH/wgafaces-model/model.ckpt\n"
     ]
    },
    {
     "name": "stderr",
     "output_type": "stream",
     "text": [
      "  1%|          | 5851/500000 [1:10:07<98:20:32,  1.40it/s]"
     ]
    },
    {
     "name": "stdout",
     "output_type": "stream",
     "text": [
      "[5850/500000] Loss_D: 0.124675 Loss_G: 0.043845 measure: 0.1464, k_t: 0.0496\n"
     ]
    },
    {
     "name": "stderr",
     "output_type": "stream",
     "text": [
      "  1%|          | 5901/500000 [1:10:43<98:16:31,  1.40it/s]"
     ]
    },
    {
     "name": "stdout",
     "output_type": "stream",
     "text": [
      "[5900/500000] Loss_D: 0.105678 Loss_G: 0.033761 measure: 0.1273, k_t: 0.0502\n"
     ]
    },
    {
     "name": "stderr",
     "output_type": "stream",
     "text": [
      "  1%|          | 5951/500000 [1:11:19<98:13:05,  1.40it/s]"
     ]
    },
    {
     "name": "stdout",
     "output_type": "stream",
     "text": [
      "[5950/500000] Loss_D: 0.104145 Loss_G: 0.052214 measure: 0.1080, k_t: 0.0507\n"
     ]
    },
    {
     "name": "stderr",
     "output_type": "stream",
     "text": [
      "  1%|          | 6000/500000 [1:11:54<98:37:28,  1.39it/s]"
     ]
    },
    {
     "name": "stdout",
     "output_type": "stream",
     "text": [
      "[6000/500000] Loss_D: 0.106149 Loss_G: 0.044640 measure: 0.1180, k_t: 0.0510\n",
      "[*] Samples saved: ./CRASSH/wgafaces-model/6000_G.png\n",
      "[*] Samples saved: ./CRASSH/wgafaces-model/6000_D_real.png\n"
     ]
    },
    {
     "name": "stderr",
     "output_type": "stream",
     "text": [
      "\r",
      "  1%|          | 6001/500000 [1:11:55<133:32:19,  1.03it/s]"
     ]
    },
    {
     "name": "stdout",
     "output_type": "stream",
     "text": [
      "[*] Samples saved: ./CRASSH/wgafaces-model/6000_D_fake.png\n"
     ]
    },
    {
     "name": "stderr",
     "output_type": "stream",
     "text": [
      "  1%|          | 6051/500000 [1:12:33<173:58:23,  1.27s/it]"
     ]
    },
    {
     "name": "stdout",
     "output_type": "stream",
     "text": [
      "[6050/500000] Loss_D: 0.106296 Loss_G: 0.043107 measure: 0.1197, k_t: 0.0514\n"
     ]
    },
    {
     "name": "stderr",
     "output_type": "stream",
     "text": [
      "  1%|          | 6101/500000 [1:13:09<98:26:39,  1.39it/s] "
     ]
    },
    {
     "name": "stdout",
     "output_type": "stream",
     "text": [
      "[6100/500000] Loss_D: 0.103682 Loss_G: 0.039632 measure: 0.1190, k_t: 0.0516\n"
     ]
    },
    {
     "name": "stderr",
     "output_type": "stream",
     "text": [
      "  1%|          | 6151/500000 [1:13:45<98:25:16,  1.39it/s]"
     ]
    },
    {
     "name": "stdout",
     "output_type": "stream",
     "text": [
      "[6150/500000] Loss_D: 0.098938 Loss_G: 0.036835 measure: 0.1144, k_t: 0.0520\n"
     ]
    },
    {
     "name": "stderr",
     "output_type": "stream",
     "text": [
      "  1%|          | 6201/500000 [1:14:20<98:21:31,  1.39it/s]"
     ]
    },
    {
     "name": "stdout",
     "output_type": "stream",
     "text": [
      "[6200/500000] Loss_D: 0.106763 Loss_G: 0.056765 measure: 0.1116, k_t: 0.0523\n"
     ]
    },
    {
     "name": "stderr",
     "output_type": "stream",
     "text": [
      "  1%|          | 6239/500000 [1:14:48<98:10:50,  1.40it/s]"
     ]
    },
    {
     "name": "stdout",
     "output_type": "stream",
     "text": [
      "INFO:tensorflow:Saving checkpoint to path ./CRASSH/wgafaces-model/model.ckpt\n"
     ]
    },
    {
     "name": "stderr",
     "output_type": "stream",
     "text": [
      "  1%|▏         | 6251/500000 [1:14:56<98:26:20,  1.39it/s]"
     ]
    },
    {
     "name": "stdout",
     "output_type": "stream",
     "text": [
      "[6250/500000] Loss_D: 0.098322 Loss_G: 0.037786 measure: 0.1127, k_t: 0.0526\n"
     ]
    },
    {
     "name": "stderr",
     "output_type": "stream",
     "text": [
      "  1%|▏         | 6301/500000 [1:15:32<98:23:29,  1.39it/s]"
     ]
    },
    {
     "name": "stdout",
     "output_type": "stream",
     "text": [
      "[6300/500000] Loss_D: 0.111787 Loss_G: 0.043148 measure: 0.1279, k_t: 0.0528\n"
     ]
    },
    {
     "name": "stderr",
     "output_type": "stream",
     "text": [
      "  1%|▏         | 6351/500000 [1:16:08<98:10:39,  1.40it/s]"
     ]
    },
    {
     "name": "stdout",
     "output_type": "stream",
     "text": [
      "[6350/500000] Loss_D: 0.088589 Loss_G: 0.033581 measure: 0.1020, k_t: 0.0533\n"
     ]
    },
    {
     "name": "stderr",
     "output_type": "stream",
     "text": [
      "  1%|▏         | 6401/500000 [1:16:44<98:13:06,  1.40it/s]"
     ]
    },
    {
     "name": "stdout",
     "output_type": "stream",
     "text": [
      "[6400/500000] Loss_D: 0.100957 Loss_G: 0.045213 measure: 0.1099, k_t: 0.0535\n"
     ]
    },
    {
     "name": "stderr",
     "output_type": "stream",
     "text": [
      "  1%|▏         | 6451/500000 [1:17:19<98:12:09,  1.40it/s]"
     ]
    },
    {
     "name": "stdout",
     "output_type": "stream",
     "text": [
      "[6450/500000] Loss_D: 0.103512 Loss_G: 0.037853 measure: 0.1205, k_t: 0.0539\n"
     ]
    },
    {
     "name": "stderr",
     "output_type": "stream",
     "text": [
      "  1%|▏         | 6500/500000 [1:17:54<98:02:31,  1.40it/s]"
     ]
    },
    {
     "name": "stdout",
     "output_type": "stream",
     "text": [
      "[6500/500000] Loss_D: 0.096678 Loss_G: 0.036001 measure: 0.1119, k_t: 0.0542\n",
      "[*] Samples saved: ./CRASSH/wgafaces-model/6500_G.png\n",
      "[*] Samples saved: ./CRASSH/wgafaces-model/6500_D_real.png\n"
     ]
    },
    {
     "name": "stderr",
     "output_type": "stream",
     "text": [
      "\r",
      "  1%|▏         | 6501/500000 [1:17:56<133:16:04,  1.03it/s]"
     ]
    },
    {
     "name": "stdout",
     "output_type": "stream",
     "text": [
      "[*] Samples saved: ./CRASSH/wgafaces-model/6500_D_fake.png\n"
     ]
    },
    {
     "name": "stderr",
     "output_type": "stream",
     "text": [
      "  1%|▏         | 6551/500000 [1:18:32<98:18:38,  1.39it/s] "
     ]
    },
    {
     "name": "stdout",
     "output_type": "stream",
     "text": [
      "[6550/500000] Loss_D: 0.094926 Loss_G: 0.045189 measure: 0.1009, k_t: 0.0546\n"
     ]
    },
    {
     "name": "stderr",
     "output_type": "stream",
     "text": [
      "  1%|▏         | 6601/500000 [1:19:08<98:19:11,  1.39it/s]"
     ]
    },
    {
     "name": "stdout",
     "output_type": "stream",
     "text": [
      "[6600/500000] Loss_D: 0.100524 Loss_G: 0.050552 measure: 0.1044, k_t: 0.0550\n"
     ]
    },
    {
     "name": "stderr",
     "output_type": "stream",
     "text": [
      "  1%|▏         | 6651/500000 [1:19:43<98:13:11,  1.40it/s]"
     ]
    },
    {
     "name": "stdout",
     "output_type": "stream",
     "text": [
      "[6650/500000] Loss_D: 0.109238 Loss_G: 0.036775 measure: 0.1301, k_t: 0.0555\n"
     ]
    },
    {
     "name": "stderr",
     "output_type": "stream",
     "text": [
      "  1%|▏         | 6657/500000 [1:19:48<98:07:57,  1.40it/s]"
     ]
    },
    {
     "name": "stdout",
     "output_type": "stream",
     "text": [
      "INFO:tensorflow:Saving checkpoint to path ./CRASSH/wgafaces-model/model.ckpt\n"
     ]
    },
    {
     "name": "stderr",
     "output_type": "stream",
     "text": [
      "  1%|▏         | 6683/500000 [1:20:06<98:07:47,  1.40it/s]"
     ]
    }
   ],
   "source": [
    "trainer.train()"
   ]
  },
  {
   "cell_type": "code",
   "execution_count": null,
   "metadata": {},
   "outputs": [],
   "source": []
  },
  {
   "cell_type": "code",
   "execution_count": null,
   "metadata": {},
   "outputs": [],
   "source": []
  },
  {
   "cell_type": "code",
   "execution_count": null,
   "metadata": {},
   "outputs": [],
   "source": [
    "#   NOW for the testing we will use the following.... \n",
    "# def generate(self, inputs, root_path=None, path=None, idx=None, save=True): \n",
    "\n",
    "#     def autoencode(se \n",
    "#     def encode(self .D_z, {self.x: inputs})\n",
    "\n",
    "#     def decode(self, z): \n",
    "#     def interpolate_G(self,  \n",
    "#     def interpolate_D(self "
   ]
  },
  {
   "cell_type": "code",
   "execution_count": null,
   "metadata": {},
   "outputs": [],
   "source": []
  },
  {
   "cell_type": "code",
   "execution_count": null,
   "metadata": {},
   "outputs": [],
   "source": []
  },
  {
   "cell_type": "code",
   "execution_count": null,
   "metadata": {},
   "outputs": [],
   "source": []
  },
  {
   "cell_type": "code",
   "execution_count": null,
   "metadata": {},
   "outputs": [],
   "source": []
  },
  {
   "cell_type": "code",
   "execution_count": null,
   "metadata": {},
   "outputs": [],
   "source": []
  },
  {
   "cell_type": "code",
   "execution_count": null,
   "metadata": {},
   "outputs": [],
   "source": []
  },
  {
   "cell_type": "code",
   "execution_count": null,
   "metadata": {},
   "outputs": [],
   "source": []
  },
  {
   "cell_type": "code",
   "execution_count": null,
   "metadata": {},
   "outputs": [],
   "source": []
  },
  {
   "cell_type": "code",
   "execution_count": null,
   "metadata": {},
   "outputs": [],
   "source": []
  }
 ],
 "metadata": {
  "kernelspec": {
   "display_name": "Tensorflow Py3.5",
   "language": "python",
   "name": "tensorflow"
  },
  "language_info": {
   "codemirror_mode": {
    "name": "ipython",
    "version": 3
   },
   "file_extension": ".py",
   "mimetype": "text/x-python",
   "name": "python",
   "nbconvert_exporter": "python",
   "pygments_lexer": "ipython3",
   "version": "3.5.5"
  }
 },
 "nbformat": 4,
 "nbformat_minor": 2
}
